{
 "cells": [
  {
   "cell_type": "markdown",
   "id": "a14ddf87",
   "metadata": {},
   "source": [
    "# 🎓 Topic: Python Lists, Arrays & Algorithms"
   ]
  },
  {
   "cell_type": "markdown",
   "id": "0df97765",
   "metadata": {},
   "source": [
    "\n",
    "### 🧺 1. What is a List in Python?\n",
    "#### A list is a type of container that can hold multiple values, like a basket 🧺 holding fruits."
   ]
  },
  {
   "cell_type": "code",
   "execution_count": 29,
   "id": "2173ef95",
   "metadata": {},
   "outputs": [
    {
     "name": "stdout",
     "output_type": "stream",
     "text": [
      "['apple', 'banana', 'mango']\n"
     ]
    }
   ],
   "source": [
    "fruits = [\"apple\", \"banana\", \"mango\"]\n",
    "print(fruits)"
   ]
  },
  {
   "cell_type": "markdown",
   "id": "60c821dd",
   "metadata": {},
   "source": [
    "✅ Ordered → Keeps elements in the same sequence.\n",
    "\n",
    "✅ Mutable → You can change items.\n",
    "\n",
    "✅ Mixed Types → Can hold int, str, even other lists."
   ]
  },
  {
   "cell_type": "code",
   "execution_count": 30,
   "id": "87e571ee",
   "metadata": {},
   "outputs": [
    {
     "name": "stdout",
     "output_type": "stream",
     "text": [
      "[10, 'hello', [1, 2], 3.14]\n"
     ]
    }
   ],
   "source": [
    "data = [10, \"hello\", [1, 2], 3.14]\n",
    "print(data)"
   ]
  },
  {
   "cell_type": "markdown",
   "id": "dec8b006",
   "metadata": {},
   "source": [
    "### 🧮 2. Lists Are Dynamic Arrays"
   ]
  },
  {
   "cell_type": "markdown",
   "id": "086c8652",
   "metadata": {},
   "source": [
    "In lower-level languages like C, arrays must have a fixed size.\n",
    "But Python lists can grow or shrink anytime. That’s why we say Python lists are dynamic arrays."
   ]
  },
  {
   "cell_type": "code",
   "execution_count": 31,
   "id": "c34df48c",
   "metadata": {},
   "outputs": [
    {
     "name": "stdout",
     "output_type": "stream",
     "text": [
      "[1, 2, 3, 4]\n"
     ]
    }
   ],
   "source": [
    "numbers = [1, 2, 3]\n",
    "numbers.append(4)# List is now [1, 2, 3, 4]\n",
    "print(numbers)  "
   ]
  },
  {
   "cell_type": "code",
   "execution_count": 32,
   "id": "e2584652",
   "metadata": {},
   "outputs": [
    {
     "data": {
      "text/plain": [
       "'🧰 3. Common List Methods (Built-in Algorithms)\\n\\nMethod\\t        What it does             \\t    Example\\nappend()        Add item to end       \\t        list.append(5)\\nsort()       \\tSorts the list                 \\tlist.sort()\\nremove()    \\tRemoves specific item\\t         list.remove(\"apple\")\\npop()\\t        Removes last item (or by index)\\t list.pop()\\nindex()        \\tFind index of item\\t             list.index(\"banana\")\\n'"
      ]
     },
     "execution_count": 32,
     "metadata": {},
     "output_type": "execute_result"
    }
   ],
   "source": [
    "\"\"\"🧰 3. Common List Methods (Built-in Algorithms)\n",
    "\n",
    "Method\t        What it does             \t    Example\n",
    "append()        Add item to end       \t        list.append(5)\n",
    "sort()       \tSorts the list                 \tlist.sort()\n",
    "remove()    \tRemoves specific item\t         list.remove(\"apple\")\n",
    "pop()\t        Removes last item (or by index)\t list.pop()\n",
    "index()        \tFind index of item\t             list.index(\"banana\")\n",
    "\"\"\"\n"
   ]
  },
  {
   "cell_type": "markdown",
   "id": "c014121f",
   "metadata": {},
   "source": [
    "### 🧠 4. Creating Your Own Algorithms\n",
    "Sometimes built-in methods aren’t enough.\n",
    "We write our own algorithm to solve a problem.\n",
    "\n",
    "Example: Finding the lowest number in a list."
   ]
  },
  {
   "cell_type": "code",
   "execution_count": 33,
   "id": "b6ee2da4",
   "metadata": {},
   "outputs": [
    {
     "name": "stdout",
     "output_type": "stream",
     "text": [
      "3\n"
     ]
    }
   ],
   "source": [
    "# Yeh function list mein se sabse chhoti value dhoondhta hai\n",
    "def find_lowest(lst): # lst ek parameter hai, jisme hum list denge jaise [9, 3, 5, 8, 3].\n",
    "    # Sabse pehle hum assume karte hain ke pehla number hi sabse chhota hai\n",
    "    lowest = lst[0]\n",
    "\n",
    "    # Har item ke liye jo list mein hai:\n",
    "    for items in lst:\n",
    "        # Agar current item lowest se chhota hai to usay lowest bana do\n",
    "        if items < lowest:\n",
    "            lowest = items  # lowest value ko update kar do\n",
    "\n",
    "    # Jab loop khatam ho jaye to lowest value return karo\n",
    "    return lowest\n",
    "\n",
    "# Function ko call karke print kar rahe hain result\n",
    "print(find_lowest([9, 3, 5, 8, 3]))"
   ]
  },
  {
   "attachments": {
    "image.png": {
     "image/png": "[encoded data removed]"
    }
   },
   "cell_type": "markdown",
   "id": "603fab68",
   "metadata": {},
   "source": [
    "![image.png](attachment:image.png)"
   ]
  },
  {
   "cell_type": "markdown",
   "id": "99bfc46f",
   "metadata": {},
   "source": [
    "# ⏱️ 5. Time Complexity (Run Time)"
   ]
  },
  {
   "cell_type": "markdown",
   "id": "ec53ad1d",
   "metadata": {},
   "source": [
    "This is how we measure performance of an algorithm:\n",
    "\n",
    "\"How much time does this algorithm take as the input grows?\"\n",
    "\n",
    "In the find_lowest() example:\n",
    "\n",
    "The algorithm must check every element in the list.\n",
    "\n",
    "So, for a list of size n, it runs n times → Time complexity = O(n) (Linear time)\n",
    "\n",
    "If list has:\n",
    "\n",
    "5 elements → loop runs 5 times\n",
    "\n",
    "1000 elements → loop runs 1000 times\n",
    "\n",
    "📊 6. Why It Matters in DSA\n",
    "When solving real problems, you choose:\n",
    "\n",
    "the best Data Structure (list, set, dict, etc.)\n",
    "\n",
    "and the most efficient Algorithm\n",
    "\n",
    "That’s why DSA (Data Structures and Algorithms) helps you write faster and smarter code."
   ]
  },
  {
   "cell_type": "markdown",
   "id": "49f99560",
   "metadata": {},
   "source": [
    "### Practical Applications Overview"
   ]
  },
  {
   "cell_type": "code",
   "execution_count": 34,
   "id": "292cd35d",
   "metadata": {},
   "outputs": [],
   "source": [
    "# ✅ 1. Finance App – Lowest Expense:\n",
    "expenses = [250, 120, 89, 145, 199]\n",
    "# \"📉 Your lowest spending this week was Rs. 89.\" → You will use the exact same algorithm:\n",
    "# find_lowest(expenses)  ➝ 89"
   ]
  },
  {
   "cell_type": "code",
   "execution_count": 35,
   "id": "9ab60643",
   "metadata": {},
   "outputs": [],
   "source": [
    "# ✅ 2. Weather App – Coldest Temperature:\n",
    "temperatures = [33, 29, 25, 30, 28, 27, 31]\n",
    "# find_lowest(temperatures)  ➝ 25"
   ]
  },
  {
   "cell_type": "code",
   "execution_count": 36,
   "id": "629095e7",
   "metadata": {},
   "outputs": [],
   "source": [
    "# ✅ 3. E-Commerce – Cheapest Product:\n",
    "prices = [1099, 499, 850, 649]\n",
    "# \"🎁 The cheapest product in your cart is Rs. 499.\""
   ]
  },
  {
   "cell_type": "code",
   "execution_count": 37,
   "id": "f36b20b9",
   "metadata": {},
   "outputs": [],
   "source": [
    "# ✅ 4. Health App – Minimum Heart Rate: Data from smart watch\n",
    "heart_rates = [88, 92, 79, 85, 90]\n",
    "# \"💓 Your lowest heart rate today was 79 bpm.\""
   ]
  },
  {
   "cell_type": "code",
   "execution_count": 38,
   "id": "932bea3b",
   "metadata": {},
   "outputs": [],
   "source": [
    "# Yehi basic problems aage jaake machine learning, AI, data science mein bhi badi cheez ban jaati hain.\n",
    "# Array Generally kehty hain python mein isy list kehty hain"
   ]
  }
 ],
 "metadata": {
  "kernelspec": {
   "display_name": "Python (env_DSA_lectures)",
   "language": "python",
   "name": "env_solar"
  },
  "language_info": {
   "codemirror_mode": {
    "name": "ipython",
    "version": 3
   },
   "file_extension": ".py",
   "mimetype": "text/x-python",
   "name": "python",
   "nbconvert_exporter": "python",
   "pygments_lexer": "ipython3",
   "version": "3.13.5"
  }
 },
 "nbformat": 4,
 "nbformat_minor": 5
}
